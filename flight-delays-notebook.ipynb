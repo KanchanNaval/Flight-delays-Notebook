{
 "cells": [
  {
   "cell_type": "code",
   "execution_count": 1,
   "id": "82878cf3",
   "metadata": {
    "_cell_guid": "b1076dfc-b9ad-4769-8c92-a6c4dae69d19",
    "_uuid": "8f2839f25d086af736a60e9eeb907d3b93b6e0e5",
    "execution": {
     "iopub.execute_input": "2024-06-08T08:52:05.160438Z",
     "iopub.status.busy": "2024-06-08T08:52:05.160012Z",
     "iopub.status.idle": "2024-06-08T08:52:06.015657Z",
     "shell.execute_reply": "2024-06-08T08:52:06.014434Z"
    },
    "papermill": {
     "duration": 0.877775,
     "end_time": "2024-06-08T08:52:06.018962",
     "exception": false,
     "start_time": "2024-06-08T08:52:05.141187",
     "status": "completed"
    },
    "tags": []
   },
   "outputs": [
    {
     "name": "stdout",
     "output_type": "stream",
     "text": [
      "/kaggle/input/flight-delays-fall-2018/sample_submission.csv.zip\n",
      "/kaggle/input/flight-delays-fall-2018/flight_delays_train.csv.zip\n",
      "/kaggle/input/flight-delays-fall-2018/flight_delays_test.csv.zip\n"
     ]
    }
   ],
   "source": [
    "# This Python 3 environment comes with many helpful analytics libraries installed\n",
    "# It is defined by the kaggle/python Docker image: https://github.com/kaggle/docker-python\n",
    "# For example, here's several helpful packages to load\n",
    "\n",
    "import numpy as np # linear algebra\n",
    "import pandas as pd # data processing, CSV file I/O (e.g. pd.read_csv)\n",
    "\n",
    "# Input data files are available in the read-only \"../input/\" directory\n",
    "# For example, running this (by clicking run or pressing Shift+Enter) will list all files under the input directory\n",
    "\n",
    "import os\n",
    "for dirname, _, filenames in os.walk('/kaggle/input'):\n",
    "    for filename in filenames:\n",
    "        print(os.path.join(dirname, filename))\n",
    "\n",
    "# You can write up to 20GB to the current directory (/kaggle/working/) that gets preserved as output when you create a version using \"Save & Run All\" \n",
    "# You can also write temporary files to /kaggle/temp/, but they won't be saved outside of the current session"
   ]
  },
  {
   "cell_type": "markdown",
   "id": "c5e9b837",
   "metadata": {
    "papermill": {
     "duration": 0.012861,
     "end_time": "2024-06-08T08:52:06.044834",
     "exception": false,
     "start_time": "2024-06-08T08:52:06.031973",
     "status": "completed"
    },
    "tags": []
   },
   "source": [
    "# Step 1: Import Libraries"
   ]
  },
  {
   "cell_type": "code",
   "execution_count": 2,
   "id": "437f4330",
   "metadata": {
    "execution": {
     "iopub.execute_input": "2024-06-08T08:52:06.072351Z",
     "iopub.status.busy": "2024-06-08T08:52:06.071801Z",
     "iopub.status.idle": "2024-06-08T08:52:07.370544Z",
     "shell.execute_reply": "2024-06-08T08:52:07.369427Z"
    },
    "papermill": {
     "duration": 1.315776,
     "end_time": "2024-06-08T08:52:07.373409",
     "exception": false,
     "start_time": "2024-06-08T08:52:06.057633",
     "status": "completed"
    },
    "tags": []
   },
   "outputs": [],
   "source": [
    "import pandas as pd\n",
    "import seaborn as sns\n",
    "import matplotlib.pyplot as plt\n",
    "import warnings\n",
    "warnings.simplefilter(\"ignore\")"
   ]
  },
  {
   "cell_type": "code",
   "execution_count": 3,
   "id": "b0f7e51c",
   "metadata": {
    "execution": {
     "iopub.execute_input": "2024-06-08T08:52:07.400583Z",
     "iopub.status.busy": "2024-06-08T08:52:07.400200Z",
     "iopub.status.idle": "2024-06-08T08:52:07.860568Z",
     "shell.execute_reply": "2024-06-08T08:52:07.859430Z"
    },
    "papermill": {
     "duration": 0.477334,
     "end_time": "2024-06-08T08:52:07.863476",
     "exception": false,
     "start_time": "2024-06-08T08:52:07.386142",
     "status": "completed"
    },
    "tags": []
   },
   "outputs": [],
   "source": [
    "# Load the dataset\n",
    "# Load the datasets\n",
    "train_df = pd.read_csv('/kaggle/input/flight-delays-fall-2018/flight_delays_train.csv.zip')\n",
    "test_df = pd.read_csv('/kaggle/input/flight-delays-fall-2018/flight_delays_test.csv.zip')\n",
    "sample_submission_df = pd.read_csv('/kaggle/input/flight-delays-fall-2018/sample_submission.csv.zip')\n"
   ]
  },
  {
   "cell_type": "code",
   "execution_count": 4,
   "id": "ac4b6d5e",
   "metadata": {
    "execution": {
     "iopub.execute_input": "2024-06-08T08:52:07.891589Z",
     "iopub.status.busy": "2024-06-08T08:52:07.891178Z",
     "iopub.status.idle": "2024-06-08T08:52:07.918109Z",
     "shell.execute_reply": "2024-06-08T08:52:07.917144Z"
    },
    "papermill": {
     "duration": 0.043398,
     "end_time": "2024-06-08T08:52:07.920670",
     "exception": false,
     "start_time": "2024-06-08T08:52:07.877272",
     "status": "completed"
    },
    "tags": []
   },
   "outputs": [
    {
     "data": {
      "text/html": [
       "<div>\n",
       "<style scoped>\n",
       "    .dataframe tbody tr th:only-of-type {\n",
       "        vertical-align: middle;\n",
       "    }\n",
       "\n",
       "    .dataframe tbody tr th {\n",
       "        vertical-align: top;\n",
       "    }\n",
       "\n",
       "    .dataframe thead th {\n",
       "        text-align: right;\n",
       "    }\n",
       "</style>\n",
       "<table border=\"1\" class=\"dataframe\">\n",
       "  <thead>\n",
       "    <tr style=\"text-align: right;\">\n",
       "      <th></th>\n",
       "      <th>Month</th>\n",
       "      <th>DayofMonth</th>\n",
       "      <th>DayOfWeek</th>\n",
       "      <th>DepTime</th>\n",
       "      <th>UniqueCarrier</th>\n",
       "      <th>Origin</th>\n",
       "      <th>Dest</th>\n",
       "      <th>Distance</th>\n",
       "      <th>dep_delayed_15min</th>\n",
       "    </tr>\n",
       "  </thead>\n",
       "  <tbody>\n",
       "    <tr>\n",
       "      <th>0</th>\n",
       "      <td>c-8</td>\n",
       "      <td>c-21</td>\n",
       "      <td>c-7</td>\n",
       "      <td>1934</td>\n",
       "      <td>AA</td>\n",
       "      <td>ATL</td>\n",
       "      <td>DFW</td>\n",
       "      <td>732</td>\n",
       "      <td>N</td>\n",
       "    </tr>\n",
       "    <tr>\n",
       "      <th>1</th>\n",
       "      <td>c-4</td>\n",
       "      <td>c-20</td>\n",
       "      <td>c-3</td>\n",
       "      <td>1548</td>\n",
       "      <td>US</td>\n",
       "      <td>PIT</td>\n",
       "      <td>MCO</td>\n",
       "      <td>834</td>\n",
       "      <td>N</td>\n",
       "    </tr>\n",
       "    <tr>\n",
       "      <th>2</th>\n",
       "      <td>c-9</td>\n",
       "      <td>c-2</td>\n",
       "      <td>c-5</td>\n",
       "      <td>1422</td>\n",
       "      <td>XE</td>\n",
       "      <td>RDU</td>\n",
       "      <td>CLE</td>\n",
       "      <td>416</td>\n",
       "      <td>N</td>\n",
       "    </tr>\n",
       "    <tr>\n",
       "      <th>3</th>\n",
       "      <td>c-11</td>\n",
       "      <td>c-25</td>\n",
       "      <td>c-6</td>\n",
       "      <td>1015</td>\n",
       "      <td>OO</td>\n",
       "      <td>DEN</td>\n",
       "      <td>MEM</td>\n",
       "      <td>872</td>\n",
       "      <td>N</td>\n",
       "    </tr>\n",
       "    <tr>\n",
       "      <th>4</th>\n",
       "      <td>c-10</td>\n",
       "      <td>c-7</td>\n",
       "      <td>c-6</td>\n",
       "      <td>1828</td>\n",
       "      <td>WN</td>\n",
       "      <td>MDW</td>\n",
       "      <td>OMA</td>\n",
       "      <td>423</td>\n",
       "      <td>Y</td>\n",
       "    </tr>\n",
       "    <tr>\n",
       "      <th>5</th>\n",
       "      <td>c-8</td>\n",
       "      <td>c-3</td>\n",
       "      <td>c-4</td>\n",
       "      <td>1918</td>\n",
       "      <td>NW</td>\n",
       "      <td>MEM</td>\n",
       "      <td>MCO</td>\n",
       "      <td>683</td>\n",
       "      <td>N</td>\n",
       "    </tr>\n",
       "    <tr>\n",
       "      <th>6</th>\n",
       "      <td>c-1</td>\n",
       "      <td>c-27</td>\n",
       "      <td>c-4</td>\n",
       "      <td>754</td>\n",
       "      <td>DL</td>\n",
       "      <td>PBI</td>\n",
       "      <td>LGA</td>\n",
       "      <td>1035</td>\n",
       "      <td>N</td>\n",
       "    </tr>\n",
       "    <tr>\n",
       "      <th>7</th>\n",
       "      <td>c-4</td>\n",
       "      <td>c-29</td>\n",
       "      <td>c-6</td>\n",
       "      <td>635</td>\n",
       "      <td>OH</td>\n",
       "      <td>MSP</td>\n",
       "      <td>CVG</td>\n",
       "      <td>596</td>\n",
       "      <td>N</td>\n",
       "    </tr>\n",
       "    <tr>\n",
       "      <th>8</th>\n",
       "      <td>c-7</td>\n",
       "      <td>c-28</td>\n",
       "      <td>c-5</td>\n",
       "      <td>735</td>\n",
       "      <td>AA</td>\n",
       "      <td>ONT</td>\n",
       "      <td>DFW</td>\n",
       "      <td>1189</td>\n",
       "      <td>N</td>\n",
       "    </tr>\n",
       "    <tr>\n",
       "      <th>9</th>\n",
       "      <td>c-6</td>\n",
       "      <td>c-20</td>\n",
       "      <td>c-2</td>\n",
       "      <td>2029</td>\n",
       "      <td>OO</td>\n",
       "      <td>DEN</td>\n",
       "      <td>PSC</td>\n",
       "      <td>853</td>\n",
       "      <td>N</td>\n",
       "    </tr>\n",
       "  </tbody>\n",
       "</table>\n",
       "</div>"
      ],
      "text/plain": [
       "  Month DayofMonth DayOfWeek  DepTime UniqueCarrier Origin Dest  Distance  \\\n",
       "0   c-8       c-21       c-7     1934            AA    ATL  DFW       732   \n",
       "1   c-4       c-20       c-3     1548            US    PIT  MCO       834   \n",
       "2   c-9        c-2       c-5     1422            XE    RDU  CLE       416   \n",
       "3  c-11       c-25       c-6     1015            OO    DEN  MEM       872   \n",
       "4  c-10        c-7       c-6     1828            WN    MDW  OMA       423   \n",
       "5   c-8        c-3       c-4     1918            NW    MEM  MCO       683   \n",
       "6   c-1       c-27       c-4      754            DL    PBI  LGA      1035   \n",
       "7   c-4       c-29       c-6      635            OH    MSP  CVG       596   \n",
       "8   c-7       c-28       c-5      735            AA    ONT  DFW      1189   \n",
       "9   c-6       c-20       c-2     2029            OO    DEN  PSC       853   \n",
       "\n",
       "  dep_delayed_15min  \n",
       "0                 N  \n",
       "1                 N  \n",
       "2                 N  \n",
       "3                 N  \n",
       "4                 Y  \n",
       "5                 N  \n",
       "6                 N  \n",
       "7                 N  \n",
       "8                 N  \n",
       "9                 N  "
      ]
     },
     "execution_count": 4,
     "metadata": {},
     "output_type": "execute_result"
    }
   ],
   "source": [
    "# Display the first few rows of each dataset to understand their structure\n",
    "train_df.head(10)"
   ]
  },
  {
   "cell_type": "code",
   "execution_count": 5,
   "id": "52155766",
   "metadata": {
    "execution": {
     "iopub.execute_input": "2024-06-08T08:52:07.949649Z",
     "iopub.status.busy": "2024-06-08T08:52:07.949275Z",
     "iopub.status.idle": "2024-06-08T08:52:07.964972Z",
     "shell.execute_reply": "2024-06-08T08:52:07.963873Z"
    },
    "papermill": {
     "duration": 0.033055,
     "end_time": "2024-06-08T08:52:07.967523",
     "exception": false,
     "start_time": "2024-06-08T08:52:07.934468",
     "status": "completed"
    },
    "tags": []
   },
   "outputs": [
    {
     "data": {
      "text/html": [
       "<div>\n",
       "<style scoped>\n",
       "    .dataframe tbody tr th:only-of-type {\n",
       "        vertical-align: middle;\n",
       "    }\n",
       "\n",
       "    .dataframe tbody tr th {\n",
       "        vertical-align: top;\n",
       "    }\n",
       "\n",
       "    .dataframe thead th {\n",
       "        text-align: right;\n",
       "    }\n",
       "</style>\n",
       "<table border=\"1\" class=\"dataframe\">\n",
       "  <thead>\n",
       "    <tr style=\"text-align: right;\">\n",
       "      <th></th>\n",
       "      <th>Month</th>\n",
       "      <th>DayofMonth</th>\n",
       "      <th>DayOfWeek</th>\n",
       "      <th>DepTime</th>\n",
       "      <th>UniqueCarrier</th>\n",
       "      <th>Origin</th>\n",
       "      <th>Dest</th>\n",
       "      <th>Distance</th>\n",
       "    </tr>\n",
       "  </thead>\n",
       "  <tbody>\n",
       "    <tr>\n",
       "      <th>0</th>\n",
       "      <td>c-7</td>\n",
       "      <td>c-25</td>\n",
       "      <td>c-3</td>\n",
       "      <td>615</td>\n",
       "      <td>YV</td>\n",
       "      <td>MRY</td>\n",
       "      <td>PHX</td>\n",
       "      <td>598</td>\n",
       "    </tr>\n",
       "    <tr>\n",
       "      <th>1</th>\n",
       "      <td>c-4</td>\n",
       "      <td>c-17</td>\n",
       "      <td>c-2</td>\n",
       "      <td>739</td>\n",
       "      <td>WN</td>\n",
       "      <td>LAS</td>\n",
       "      <td>HOU</td>\n",
       "      <td>1235</td>\n",
       "    </tr>\n",
       "    <tr>\n",
       "      <th>2</th>\n",
       "      <td>c-12</td>\n",
       "      <td>c-2</td>\n",
       "      <td>c-7</td>\n",
       "      <td>651</td>\n",
       "      <td>MQ</td>\n",
       "      <td>GSP</td>\n",
       "      <td>ORD</td>\n",
       "      <td>577</td>\n",
       "    </tr>\n",
       "    <tr>\n",
       "      <th>3</th>\n",
       "      <td>c-3</td>\n",
       "      <td>c-25</td>\n",
       "      <td>c-7</td>\n",
       "      <td>1614</td>\n",
       "      <td>WN</td>\n",
       "      <td>BWI</td>\n",
       "      <td>MHT</td>\n",
       "      <td>377</td>\n",
       "    </tr>\n",
       "    <tr>\n",
       "      <th>4</th>\n",
       "      <td>c-6</td>\n",
       "      <td>c-6</td>\n",
       "      <td>c-3</td>\n",
       "      <td>1505</td>\n",
       "      <td>UA</td>\n",
       "      <td>ORD</td>\n",
       "      <td>STL</td>\n",
       "      <td>258</td>\n",
       "    </tr>\n",
       "  </tbody>\n",
       "</table>\n",
       "</div>"
      ],
      "text/plain": [
       "  Month DayofMonth DayOfWeek  DepTime UniqueCarrier Origin Dest  Distance\n",
       "0   c-7       c-25       c-3      615            YV    MRY  PHX       598\n",
       "1   c-4       c-17       c-2      739            WN    LAS  HOU      1235\n",
       "2  c-12        c-2       c-7      651            MQ    GSP  ORD       577\n",
       "3   c-3       c-25       c-7     1614            WN    BWI  MHT       377\n",
       "4   c-6        c-6       c-3     1505            UA    ORD  STL       258"
      ]
     },
     "execution_count": 5,
     "metadata": {},
     "output_type": "execute_result"
    }
   ],
   "source": [
    "test_df.head()"
   ]
  },
  {
   "cell_type": "code",
   "execution_count": 6,
   "id": "ea96a820",
   "metadata": {
    "execution": {
     "iopub.execute_input": "2024-06-08T08:52:07.995771Z",
     "iopub.status.busy": "2024-06-08T08:52:07.995408Z",
     "iopub.status.idle": "2024-06-08T08:52:08.007613Z",
     "shell.execute_reply": "2024-06-08T08:52:08.006376Z"
    },
    "papermill": {
     "duration": 0.029513,
     "end_time": "2024-06-08T08:52:08.010337",
     "exception": false,
     "start_time": "2024-06-08T08:52:07.980824",
     "status": "completed"
    },
    "tags": []
   },
   "outputs": [
    {
     "data": {
      "text/html": [
       "<div>\n",
       "<style scoped>\n",
       "    .dataframe tbody tr th:only-of-type {\n",
       "        vertical-align: middle;\n",
       "    }\n",
       "\n",
       "    .dataframe tbody tr th {\n",
       "        vertical-align: top;\n",
       "    }\n",
       "\n",
       "    .dataframe thead th {\n",
       "        text-align: right;\n",
       "    }\n",
       "</style>\n",
       "<table border=\"1\" class=\"dataframe\">\n",
       "  <thead>\n",
       "    <tr style=\"text-align: right;\">\n",
       "      <th></th>\n",
       "      <th>id</th>\n",
       "      <th>dep_delayed_15min</th>\n",
       "    </tr>\n",
       "  </thead>\n",
       "  <tbody>\n",
       "    <tr>\n",
       "      <th>0</th>\n",
       "      <td>0</td>\n",
       "      <td>0.081</td>\n",
       "    </tr>\n",
       "    <tr>\n",
       "      <th>1</th>\n",
       "      <td>1</td>\n",
       "      <td>0.387</td>\n",
       "    </tr>\n",
       "    <tr>\n",
       "      <th>2</th>\n",
       "      <td>2</td>\n",
       "      <td>0.069</td>\n",
       "    </tr>\n",
       "    <tr>\n",
       "      <th>3</th>\n",
       "      <td>3</td>\n",
       "      <td>0.177</td>\n",
       "    </tr>\n",
       "    <tr>\n",
       "      <th>4</th>\n",
       "      <td>4</td>\n",
       "      <td>0.732</td>\n",
       "    </tr>\n",
       "  </tbody>\n",
       "</table>\n",
       "</div>"
      ],
      "text/plain": [
       "   id  dep_delayed_15min\n",
       "0   0              0.081\n",
       "1   1              0.387\n",
       "2   2              0.069\n",
       "3   3              0.177\n",
       "4   4              0.732"
      ]
     },
     "execution_count": 6,
     "metadata": {},
     "output_type": "execute_result"
    }
   ],
   "source": [
    "sample_submission_df.head()"
   ]
  },
  {
   "cell_type": "code",
   "execution_count": 7,
   "id": "6b3203e4",
   "metadata": {
    "execution": {
     "iopub.execute_input": "2024-06-08T08:52:08.039477Z",
     "iopub.status.busy": "2024-06-08T08:52:08.039071Z",
     "iopub.status.idle": "2024-06-08T08:52:08.592523Z",
     "shell.execute_reply": "2024-06-08T08:52:08.591151Z"
    },
    "papermill": {
     "duration": 0.570059,
     "end_time": "2024-06-08T08:52:08.594492",
     "exception": true,
     "start_time": "2024-06-08T08:52:08.024433",
     "status": "failed"
    },
    "tags": []
   },
   "outputs": [
    {
     "ename": "NameError",
     "evalue": "name 'df' is not defined",
     "output_type": "error",
     "traceback": [
      "\u001b[0;31m---------------------------------------------------------------------------\u001b[0m",
      "\u001b[0;31mNameError\u001b[0m                                 Traceback (most recent call last)",
      "Cell \u001b[0;32mIn[7], line 1\u001b[0m\n\u001b[0;32m----> 1\u001b[0m \u001b[43mdf\u001b[49m\u001b[38;5;241m.\u001b[39msample(\u001b[38;5;241m5\u001b[39m)\n",
      "\u001b[0;31mNameError\u001b[0m: name 'df' is not defined"
     ]
    }
   ],
   "source": [
    "df.sample(5)"
   ]
  },
  {
   "cell_type": "markdown",
   "id": "028c046f",
   "metadata": {
    "papermill": {
     "duration": null,
     "end_time": null,
     "exception": null,
     "start_time": null,
     "status": "pending"
    },
    "tags": []
   },
   "source": [
    "# Step 2: Exploring the Data"
   ]
  },
  {
   "cell_type": "code",
   "execution_count": null,
   "id": "b7335788",
   "metadata": {
    "execution": {
     "iopub.execute_input": "2024-06-08T07:57:38.879992Z",
     "iopub.status.busy": "2024-06-08T07:57:38.879557Z",
     "iopub.status.idle": "2024-06-08T07:57:38.969824Z",
     "shell.execute_reply": "2024-06-08T07:57:38.968482Z",
     "shell.execute_reply.started": "2024-06-08T07:57:38.879955Z"
    },
    "papermill": {
     "duration": null,
     "end_time": null,
     "exception": null,
     "start_time": null,
     "status": "pending"
    },
    "tags": []
   },
   "outputs": [],
   "source": [
    "train_df.info()"
   ]
  },
  {
   "cell_type": "code",
   "execution_count": null,
   "id": "d5449c2a",
   "metadata": {
    "execution": {
     "iopub.execute_input": "2024-06-08T07:57:51.474875Z",
     "iopub.status.busy": "2024-06-08T07:57:51.474475Z",
     "iopub.status.idle": "2024-06-08T07:57:51.553911Z",
     "shell.execute_reply": "2024-06-08T07:57:51.552552Z",
     "shell.execute_reply.started": "2024-06-08T07:57:51.474844Z"
    },
    "papermill": {
     "duration": null,
     "end_time": null,
     "exception": null,
     "start_time": null,
     "status": "pending"
    },
    "tags": []
   },
   "outputs": [],
   "source": [
    "test_df.info()"
   ]
  },
  {
   "cell_type": "code",
   "execution_count": null,
   "id": "d23c4e70",
   "metadata": {
    "execution": {
     "iopub.execute_input": "2024-06-08T07:55:48.264084Z",
     "iopub.status.busy": "2024-06-08T07:55:48.263682Z",
     "iopub.status.idle": "2024-06-08T07:55:48.272341Z",
     "shell.execute_reply": "2024-06-08T07:55:48.270740Z",
     "shell.execute_reply.started": "2024-06-08T07:55:48.264050Z"
    },
    "papermill": {
     "duration": null,
     "end_time": null,
     "exception": null,
     "start_time": null,
     "status": "pending"
    },
    "tags": []
   },
   "outputs": [],
   "source": [
    "df.columns"
   ]
  },
  {
   "cell_type": "code",
   "execution_count": null,
   "id": "b4c55668",
   "metadata": {
    "execution": {
     "iopub.execute_input": "2024-06-08T07:55:48.274553Z",
     "iopub.status.busy": "2024-06-08T07:55:48.274180Z",
     "iopub.status.idle": "2024-06-08T07:55:48.299482Z",
     "shell.execute_reply": "2024-06-08T07:55:48.298249Z",
     "shell.execute_reply.started": "2024-06-08T07:55:48.274521Z"
    },
    "papermill": {
     "duration": null,
     "end_time": null,
     "exception": null,
     "start_time": null,
     "status": "pending"
    },
    "tags": []
   },
   "outputs": [],
   "source": [
    "df.describe()"
   ]
  },
  {
   "cell_type": "code",
   "execution_count": null,
   "id": "20b165bf",
   "metadata": {
    "execution": {
     "iopub.execute_input": "2024-06-08T07:55:48.301804Z",
     "iopub.status.busy": "2024-06-08T07:55:48.301398Z",
     "iopub.status.idle": "2024-06-08T07:55:48.383289Z",
     "shell.execute_reply": "2024-06-08T07:55:48.382017Z",
     "shell.execute_reply.started": "2024-06-08T07:55:48.301768Z"
    },
    "papermill": {
     "duration": null,
     "end_time": null,
     "exception": null,
     "start_time": null,
     "status": "pending"
    },
    "tags": []
   },
   "outputs": [],
   "source": [
    "df.isnull().sum()"
   ]
  },
  {
   "cell_type": "code",
   "execution_count": null,
   "id": "4f24a7f2",
   "metadata": {
    "execution": {
     "iopub.execute_input": "2024-06-08T07:55:48.386146Z",
     "iopub.status.busy": "2024-06-08T07:55:48.385347Z",
     "iopub.status.idle": "2024-06-08T07:55:48.462989Z",
     "shell.execute_reply": "2024-06-08T07:55:48.461762Z",
     "shell.execute_reply.started": "2024-06-08T07:55:48.386107Z"
    },
    "papermill": {
     "duration": null,
     "end_time": null,
     "exception": null,
     "start_time": null,
     "status": "pending"
    },
    "tags": []
   },
   "outputs": [],
   "source": [
    "df[df.duplicated()]"
   ]
  },
  {
   "cell_type": "code",
   "execution_count": null,
   "id": "d0835d7d",
   "metadata": {
    "execution": {
     "iopub.execute_input": "2024-06-08T07:55:48.464817Z",
     "iopub.status.busy": "2024-06-08T07:55:48.464380Z",
     "iopub.status.idle": "2024-06-08T07:55:48.472383Z",
     "shell.execute_reply": "2024-06-08T07:55:48.471201Z",
     "shell.execute_reply.started": "2024-06-08T07:55:48.464787Z"
    },
    "papermill": {
     "duration": null,
     "end_time": null,
     "exception": null,
     "start_time": null,
     "status": "pending"
    },
    "tags": []
   },
   "outputs": [],
   "source": [
    "df.shape"
   ]
  },
  {
   "cell_type": "markdown",
   "id": "63768800",
   "metadata": {
    "papermill": {
     "duration": null,
     "end_time": null,
     "exception": null,
     "start_time": null,
     "status": "pending"
    },
    "tags": []
   },
   "source": [
    "# 1. the details of delayed flights"
   ]
  },
  {
   "cell_type": "code",
   "execution_count": null,
   "id": "77a77db6",
   "metadata": {
    "execution": {
     "iopub.execute_input": "2024-06-08T08:06:47.730391Z",
     "iopub.status.busy": "2024-06-08T08:06:47.729965Z",
     "iopub.status.idle": "2024-06-08T08:06:47.774089Z",
     "shell.execute_reply": "2024-06-08T08:06:47.772981Z",
     "shell.execute_reply.started": "2024-06-08T08:06:47.730355Z"
    },
    "papermill": {
     "duration": null,
     "end_time": null,
     "exception": null,
     "start_time": null,
     "status": "pending"
    },
    "tags": []
   },
   "outputs": [],
   "source": [
    "delayed_flights = train_df[train_df['dep_delayed_15min'] == 'Y']\n",
    "\n",
    "# Display the details of delayed flights\n",
    "print(\"\\nDelayed Flights (15 minutes or more):\")\n",
    "delayed_flights"
   ]
  },
  {
   "cell_type": "markdown",
   "id": "64884c57",
   "metadata": {
    "papermill": {
     "duration": null,
     "end_time": null,
     "exception": null,
     "start_time": null,
     "status": "pending"
    },
    "tags": []
   },
   "source": [
    "#  2. Count the number of delayed flights"
   ]
  },
  {
   "cell_type": "code",
   "execution_count": null,
   "id": "fe983517",
   "metadata": {
    "execution": {
     "iopub.execute_input": "2024-06-08T08:07:32.811151Z",
     "iopub.status.busy": "2024-06-08T08:07:32.810369Z",
     "iopub.status.idle": "2024-06-08T08:07:32.840801Z",
     "shell.execute_reply": "2024-06-08T08:07:32.839567Z",
     "shell.execute_reply.started": "2024-06-08T08:07:32.811113Z"
    },
    "papermill": {
     "duration": null,
     "end_time": null,
     "exception": null,
     "start_time": null,
     "status": "pending"
    },
    "tags": []
   },
   "outputs": [],
   "source": [
    "delayed_flights = train_df[train_df['dep_delayed_15min'] == 'Y']\n",
    "\n",
    "# Count the number of delayed flights\n",
    "delayed_flight_count = delayed_flights.shape[0]\n",
    "\n",
    "print(f\"Total Number of Flights Delayed by 15 Minutes or More: {delayed_flight_count}\")"
   ]
  },
  {
   "cell_type": "markdown",
   "id": "1e7053b6",
   "metadata": {
    "papermill": {
     "duration": null,
     "end_time": null,
     "exception": null,
     "start_time": null,
     "status": "pending"
    },
    "tags": []
   },
   "source": [
    "# 3. Count the number of NOT delayed flights"
   ]
  },
  {
   "cell_type": "code",
   "execution_count": null,
   "id": "fc09fd87",
   "metadata": {
    "execution": {
     "iopub.execute_input": "2024-06-08T08:09:23.591315Z",
     "iopub.status.busy": "2024-06-08T08:09:23.590170Z",
     "iopub.status.idle": "2024-06-08T08:09:23.624576Z",
     "shell.execute_reply": "2024-06-08T08:09:23.623289Z",
     "shell.execute_reply.started": "2024-06-08T08:09:23.591272Z"
    },
    "papermill": {
     "duration": null,
     "end_time": null,
     "exception": null,
     "start_time": null,
     "status": "pending"
    },
    "tags": []
   },
   "outputs": [],
   "source": [
    "delayed_flights = train_df[train_df['dep_delayed_15min'] == 'N']\n",
    "\n",
    "# Count the number of NOT delayed flights\n",
    "delayed_flight_count = delayed_flights.shape[0]\n",
    "\n",
    "print(f\"Total Number of Flights Delayed by 15 Minutes or More: {delayed_flight_count}\")"
   ]
  },
  {
   "cell_type": "markdown",
   "id": "def4cee0",
   "metadata": {
    "papermill": {
     "duration": null,
     "end_time": null,
     "exception": null,
     "start_time": null,
     "status": "pending"
    },
    "tags": []
   },
   "source": [
    "# 4. Flight with the Longest Distance that was Delayed by 15 Minutes or More"
   ]
  },
  {
   "cell_type": "code",
   "execution_count": null,
   "id": "eb134e10",
   "metadata": {
    "execution": {
     "iopub.execute_input": "2024-06-08T08:11:06.833335Z",
     "iopub.status.busy": "2024-06-08T08:11:06.831886Z",
     "iopub.status.idle": "2024-06-08T08:11:06.873181Z",
     "shell.execute_reply": "2024-06-08T08:11:06.872004Z",
     "shell.execute_reply.started": "2024-06-08T08:11:06.833297Z"
    },
    "papermill": {
     "duration": null,
     "end_time": null,
     "exception": null,
     "start_time": null,
     "status": "pending"
    },
    "tags": []
   },
   "outputs": [],
   "source": [
    "# Filter the dataset to find flights delayed by 15 minutes or more\n",
    "delayed_flights = train_df[train_df['dep_delayed_15min'] == 'Y']\n",
    "\n",
    "# Find the flight with the maximum distance\n",
    "max_distance_flight = delayed_flights.loc[delayed_flights['Distance'].idxmax()]\n",
    "\n",
    "# Display the details of the flight with the maximum distance\n",
    "print(\"Flight with the Longest Distance that was Delayed by 15 Minutes or More:\")\n",
    "max_distance_flight"
   ]
  },
  {
   "cell_type": "markdown",
   "id": "b9cfa21f",
   "metadata": {
    "papermill": {
     "duration": null,
     "end_time": null,
     "exception": null,
     "start_time": null,
     "status": "pending"
    },
    "tags": []
   },
   "source": [
    "# 5. Flight with the Shortest Distance that was Delayed by 15 Minutes or More"
   ]
  },
  {
   "cell_type": "code",
   "execution_count": null,
   "id": "813b51d1",
   "metadata": {
    "execution": {
     "iopub.execute_input": "2024-06-08T08:13:01.293074Z",
     "iopub.status.busy": "2024-06-08T08:13:01.292624Z",
     "iopub.status.idle": "2024-06-08T08:13:01.327106Z",
     "shell.execute_reply": "2024-06-08T08:13:01.326005Z",
     "shell.execute_reply.started": "2024-06-08T08:13:01.293044Z"
    },
    "papermill": {
     "duration": null,
     "end_time": null,
     "exception": null,
     "start_time": null,
     "status": "pending"
    },
    "tags": []
   },
   "outputs": [],
   "source": [
    "# Filter the dataset to find flights delayed by 15 minutes or more\n",
    "delayed_flights = train_df[train_df['dep_delayed_15min'] == 'Y']\n",
    "\n",
    "# Find the flight with the minimum distance\n",
    "min_distance_flight = delayed_flights.loc[delayed_flights['Distance'].idxmin()]\n",
    "\n",
    "# Display the details of the flight with the minimum distance\n",
    "print(\"Flight with the Shortest Distance that was Delayed by 15 Minutes or More:\")\n",
    "print(min_distance_flight)"
   ]
  },
  {
   "cell_type": "markdown",
   "id": "812de9b5",
   "metadata": {
    "papermill": {
     "duration": null,
     "end_time": null,
     "exception": null,
     "start_time": null,
     "status": "pending"
    },
    "tags": []
   },
   "source": [
    "# 6. Detailed Information of Delayed Flights per Month"
   ]
  },
  {
   "cell_type": "code",
   "execution_count": null,
   "id": "24134f9d",
   "metadata": {
    "execution": {
     "iopub.execute_input": "2024-06-08T08:19:20.926475Z",
     "iopub.status.busy": "2024-06-08T08:19:20.925621Z",
     "iopub.status.idle": "2024-06-08T08:19:20.974164Z",
     "shell.execute_reply": "2024-06-08T08:19:20.972672Z",
     "shell.execute_reply.started": "2024-06-08T08:19:20.926437Z"
    },
    "papermill": {
     "duration": null,
     "end_time": null,
     "exception": null,
     "start_time": null,
     "status": "pending"
    },
    "tags": []
   },
   "outputs": [],
   "source": [
    "# Filter the dataset to find flights delayed by 15 minutes or more\n",
    "delayed_flights = train_df[train_df['dep_delayed_15min'] == 'Y']\n",
    "\n",
    "# Group by the 'Month' column and get the count, mean departure time, and total distance for delayed flights\n",
    "delayed_flights_per_month = delayed_flights.groupby('Month').agg({\n",
    "    'dep_delayed_15min': 'count',  # Count of delayed flights\n",
    "    'DepTime': 'mean',             # Average departure time of delayed flights\n",
    "    'Distance': 'sum'              # Total distance of delayed flights\n",
    "}).rename(columns={'dep_delayed_15min': 'DelayedFlightCount'})\n",
    "\n",
    "# Sort the DataFrame by months\n",
    "delayed_flights_per_month = delayed_flights_per_month.reindex(['c-1', 'c-2', 'c-3', 'c-4', 'c-5', 'c-6', 'c-7', 'c-8', 'c-9', 'c-10', 'c-11', 'c-12'])\n",
    "\n",
    "# Display the detailed information of delayed flights per month\n",
    "print(\"Detailed Information of Delayed Flights per Month:\")\n",
    "print(delayed_flights_per_month)"
   ]
  },
  {
   "cell_type": "markdown",
   "id": "6d7b7368",
   "metadata": {
    "papermill": {
     "duration": null,
     "end_time": null,
     "exception": null,
     "start_time": null,
     "status": "pending"
    },
    "tags": []
   },
   "source": [
    "# 7. Total Flight Departures per Day of the Month"
   ]
  },
  {
   "cell_type": "code",
   "execution_count": null,
   "id": "5313be34",
   "metadata": {
    "execution": {
     "iopub.execute_input": "2024-06-08T08:29:27.865547Z",
     "iopub.status.busy": "2024-06-08T08:29:27.865165Z",
     "iopub.status.idle": "2024-06-08T08:29:28.195011Z",
     "shell.execute_reply": "2024-06-08T08:29:28.193898Z",
     "shell.execute_reply.started": "2024-06-08T08:29:27.865519Z"
    },
    "papermill": {
     "duration": null,
     "end_time": null,
     "exception": null,
     "start_time": null,
     "status": "pending"
    },
    "tags": []
   },
   "outputs": [],
   "source": [
    "# Convert 'DayofMonth' column to string values\n",
    "train_df['DayofMonth'] = train_df['DayofMonth'].astype(str)\n",
    "\n",
    "# Extract the numerical day from the 'DayofMonth' column\n",
    "train_df['DayofMonth'] = train_df['DayofMonth'].str.split('-').str[-1].astype(int)\n",
    "\n",
    "# Display the total flight departures per day of the month\n",
    "print(\"Total Flight Departures per Day of the Month:\")\n",
    "print(train_df.groupby('DayofMonth').size())"
   ]
  },
  {
   "cell_type": "markdown",
   "id": "d4b8b03a",
   "metadata": {
    "papermill": {
     "duration": null,
     "end_time": null,
     "exception": null,
     "start_time": null,
     "status": "pending"
    },
    "tags": []
   },
   "source": [
    "# 8. Average Flight Departures per Day"
   ]
  },
  {
   "cell_type": "code",
   "execution_count": null,
   "id": "7bc1b4c5",
   "metadata": {
    "execution": {
     "iopub.execute_input": "2024-06-08T08:39:17.221982Z",
     "iopub.status.busy": "2024-06-08T08:39:17.221570Z",
     "iopub.status.idle": "2024-06-08T08:39:17.231167Z",
     "shell.execute_reply": "2024-06-08T08:39:17.229972Z",
     "shell.execute_reply.started": "2024-06-08T08:39:17.221953Z"
    },
    "papermill": {
     "duration": null,
     "end_time": null,
     "exception": null,
     "start_time": null,
     "status": "pending"
    },
    "tags": []
   },
   "outputs": [],
   "source": [
    "# Calculate the total number of flight departures\n",
    "total_flight_departures = len(train_df)\n",
    "\n",
    "# Calculate the number of unique days\n",
    "unique_days = train_df['DayofMonth'].nunique()\n",
    "\n",
    "# Calculate the average flight departures per day\n",
    "avg_flight_departures_per_day = total_flight_departures / unique_days\n",
    "\n",
    "print(\"Average Flight Departures per Day:\", avg_flight_departures_per_day)"
   ]
  },
  {
   "cell_type": "markdown",
   "id": "a65a559f",
   "metadata": {
    "papermill": {
     "duration": null,
     "end_time": null,
     "exception": null,
     "start_time": null,
     "status": "pending"
    },
    "tags": []
   },
   "source": [
    "# 9. Total Delayed Flight Departures per Day of the Month"
   ]
  },
  {
   "cell_type": "code",
   "execution_count": null,
   "id": "10bafddb",
   "metadata": {
    "execution": {
     "iopub.execute_input": "2024-06-08T08:32:21.791766Z",
     "iopub.status.busy": "2024-06-08T08:32:21.791349Z",
     "iopub.status.idle": "2024-06-08T08:32:21.839734Z",
     "shell.execute_reply": "2024-06-08T08:32:21.838578Z",
     "shell.execute_reply.started": "2024-06-08T08:32:21.791738Z"
    },
    "papermill": {
     "duration": null,
     "end_time": null,
     "exception": null,
     "start_time": null,
     "status": "pending"
    },
    "tags": []
   },
   "outputs": [],
   "source": [
    "# Convert 'DayofMonth' column to string values\n",
    "train_df['DayofMonth'] = train_df['DayofMonth'].astype(str)\n",
    "\n",
    "# Filter the dataset to include only delayed flights\n",
    "delayed_flights = train_df[train_df['dep_delayed_15min'] == 'Y']\n",
    "\n",
    "# Convert 'DayofMonth' column back to integer values\n",
    "delayed_flights['DayofMonth'] = delayed_flights['DayofMonth'].astype(int)\n",
    "\n",
    "# Group by the 'DayofMonth' column and get the count of delayed flights for each day\n",
    "total_delayed_flights_per_day = delayed_flights.groupby('DayofMonth').size()\n",
    "\n",
    "# Display the total number of delayed flight departures for each day of the month\n",
    "print(\"Total Delayed Flight Departures per Day of the Month:\")\n",
    "total_delayed_flights_per_day"
   ]
  },
  {
   "cell_type": "code",
   "execution_count": null,
   "id": "a5ad9473",
   "metadata": {
    "execution": {
     "iopub.execute_input": "2024-06-08T08:33:58.806667Z",
     "iopub.status.busy": "2024-06-08T08:33:58.806222Z",
     "iopub.status.idle": "2024-06-08T08:33:59.387269Z",
     "shell.execute_reply": "2024-06-08T08:33:59.386160Z",
     "shell.execute_reply.started": "2024-06-08T08:33:58.806635Z"
    },
    "papermill": {
     "duration": null,
     "end_time": null,
     "exception": null,
     "start_time": null,
     "status": "pending"
    },
    "tags": []
   },
   "outputs": [],
   "source": [
    "# Convert 'DayofMonth' column to string values\n",
    "train_df['DayofMonth'] = train_df['DayofMonth'].astype(str)\n",
    "\n",
    "# Filter the dataset to include only delayed flights\n",
    "delayed_flights = train_df[train_df['dep_delayed_15min'] == 'Y']\n",
    "\n",
    "# Convert 'DayofMonth' column back to integer values\n",
    "delayed_flights['DayofMonth'] = delayed_flights['DayofMonth'].astype(int)\n",
    "\n",
    "# Group by the 'DayofMonth' column and get the count of delayed flights for each day\n",
    "total_delayed_flights_per_day = delayed_flights.groupby('DayofMonth').size()\n",
    "\n",
    "# Plot the total number of delayed flight departures per day of the month\n",
    "plt.figure(figsize=(10, 6))\n",
    "total_delayed_flights_per_day.plot(kind='bar', color='skyblue')\n",
    "plt.title('Total Delayed Flight Departures per Day of the Month')\n",
    "plt.xlabel('Day of the Month')\n",
    "plt.ylabel('Number of Delayed Flights')\n",
    "plt.xticks(rotation=45)\n",
    "plt.grid(axis='y', linestyle='--', alpha=0.7)\n",
    "plt.tight_layout()\n",
    "plt.show()"
   ]
  },
  {
   "cell_type": "code",
   "execution_count": null,
   "id": "75fb961e",
   "metadata": {
    "execution": {
     "iopub.execute_input": "2024-06-08T08:38:12.886140Z",
     "iopub.status.busy": "2024-06-08T08:38:12.885652Z",
     "iopub.status.idle": "2024-06-08T08:38:13.912116Z",
     "shell.execute_reply": "2024-06-08T08:38:13.911000Z",
     "shell.execute_reply.started": "2024-06-08T08:38:12.886102Z"
    },
    "papermill": {
     "duration": null,
     "end_time": null,
     "exception": null,
     "start_time": null,
     "status": "pending"
    },
    "tags": []
   },
   "outputs": [],
   "source": [
    "# Convert 'DayofMonth' column to string values\n",
    "train_df['DayofMonth'] = train_df['DayofMonth'].astype(str)\n",
    "\n",
    "# Extract the numerical day from the 'DayofMonth' column\n",
    "train_df['DayofMonth'] = train_df['DayofMonth'].str.split('-').str[-1].astype(int)\n",
    "\n",
    "# Group by the 'DayofMonth' column and get the count of flights for each day\n",
    "total_flights_per_day = train_df.groupby('DayofMonth').size()\n",
    "\n",
    "# Sort the total flights per day Series by the day of the month\n",
    "total_flights_per_day = total_flights_per_day.sort_index()\n",
    "\n",
    "# Plot the total number of flight departures per day of the month\n",
    "plt.figure(figsize=(10, 6))\n",
    "total_flights_per_day.plot(kind='bar', color='skyblue')\n",
    "plt.title('Total Flight Departures per Day of the Month')\n",
    "plt.xlabel('Day of the Month')\n",
    "plt.ylabel('Number of Flight Departures')\n",
    "plt.xticks(rotation=45)\n",
    "plt.grid(axis='y', linestyle='--', alpha=0.7)\n",
    "plt.tight_layout()\n",
    "plt.show()"
   ]
  },
  {
   "cell_type": "code",
   "execution_count": null,
   "id": "683005a6",
   "metadata": {
    "execution": {
     "iopub.execute_input": "2024-06-08T08:41:07.206685Z",
     "iopub.status.busy": "2024-06-08T08:41:07.206227Z",
     "iopub.status.idle": "2024-06-08T08:41:07.533695Z",
     "shell.execute_reply": "2024-06-08T08:41:07.532571Z",
     "shell.execute_reply.started": "2024-06-08T08:41:07.206654Z"
    },
    "papermill": {
     "duration": null,
     "end_time": null,
     "exception": null,
     "start_time": null,
     "status": "pending"
    },
    "tags": []
   },
   "outputs": [],
   "source": [
    "# Line Plot\n",
    "plt.figure(figsize=(10, 6))\n",
    "total_flights_per_day.plot(kind='line', marker='o', color='skyblue')\n",
    "plt.title('Trend of Flight Departures per Day of the Month')\n",
    "plt.xlabel('Day of the Month')\n",
    "plt.ylabel('Number of Flight Departures')\n",
    "plt.xticks(rotation=45)\n",
    "plt.grid(True)\n",
    "plt.tight_layout()\n",
    "plt.show()"
   ]
  },
  {
   "cell_type": "code",
   "execution_count": null,
   "id": "55868bf4",
   "metadata": {
    "execution": {
     "iopub.execute_input": "2024-06-08T08:41:22.327101Z",
     "iopub.status.busy": "2024-06-08T08:41:22.326105Z",
     "iopub.status.idle": "2024-06-08T08:41:22.843221Z",
     "shell.execute_reply": "2024-06-08T08:41:22.842001Z",
     "shell.execute_reply.started": "2024-06-08T08:41:22.327012Z"
    },
    "papermill": {
     "duration": null,
     "end_time": null,
     "exception": null,
     "start_time": null,
     "status": "pending"
    },
    "tags": []
   },
   "outputs": [],
   "source": [
    "# Pie Chart\n",
    "plt.figure(figsize=(8, 8))\n",
    "plt.pie(total_flights_per_day, labels=total_flights_per_day.index, autopct='%1.1f%%', startangle=140)\n",
    "plt.title('Proportion of Flight Departures per Day of the Month')\n",
    "plt.axis('equal')\n",
    "plt.tight_layout()\n",
    "plt.show()"
   ]
  },
  {
   "cell_type": "code",
   "execution_count": null,
   "id": "1feab07d",
   "metadata": {
    "execution": {
     "iopub.execute_input": "2024-06-08T08:41:39.558144Z",
     "iopub.status.busy": "2024-06-08T08:41:39.557080Z",
     "iopub.status.idle": "2024-06-08T08:41:40.079679Z",
     "shell.execute_reply": "2024-06-08T08:41:40.078538Z",
     "shell.execute_reply.started": "2024-06-08T08:41:39.558105Z"
    },
    "papermill": {
     "duration": null,
     "end_time": null,
     "exception": null,
     "start_time": null,
     "status": "pending"
    },
    "tags": []
   },
   "outputs": [],
   "source": [
    "# Histogram\n",
    "plt.figure(figsize=(10, 6))\n",
    "plt.hist(train_df['DayofMonth'].astype(int), bins=31, color='skyblue', edgecolor='black')\n",
    "plt.title('Distribution of Flight Departures Across Days of the Month')\n",
    "plt.xlabel('Day of the Month')\n",
    "plt.ylabel('Number of Flight Departures')\n",
    "plt.xticks(range(1, 32))\n",
    "plt.grid(True)\n",
    "plt.tight_layout()\n",
    "plt.show()"
   ]
  },
  {
   "cell_type": "code",
   "execution_count": null,
   "id": "5cbad625",
   "metadata": {
    "execution": {
     "iopub.execute_input": "2024-06-08T08:41:56.866712Z",
     "iopub.status.busy": "2024-06-08T08:41:56.866313Z",
     "iopub.status.idle": "2024-06-08T08:41:57.273333Z",
     "shell.execute_reply": "2024-06-08T08:41:57.272254Z",
     "shell.execute_reply.started": "2024-06-08T08:41:56.866685Z"
    },
    "papermill": {
     "duration": null,
     "end_time": null,
     "exception": null,
     "start_time": null,
     "status": "pending"
    },
    "tags": []
   },
   "outputs": [],
   "source": [
    "# Box Plot\n",
    "plt.figure(figsize=(10, 6))\n",
    "train_df.boxplot(column='DayofMonth', by=None, patch_artist=True, showmeans=False, medianprops=dict(color='orange'))\n",
    "plt.title('Box Plot of Flight Departures per Day of the Month')\n",
    "plt.xlabel('Day of the Month')\n",
    "plt.ylabel('Number of Flight Departures')\n",
    "plt.xticks(rotation=45)\n",
    "plt.grid(True)\n",
    "plt.tight_layout()\n",
    "plt.show()"
   ]
  },
  {
   "cell_type": "code",
   "execution_count": null,
   "id": "c80244ea",
   "metadata": {
    "execution": {
     "iopub.execute_input": "2024-06-08T08:43:35.005984Z",
     "iopub.status.busy": "2024-06-08T08:43:35.005561Z",
     "iopub.status.idle": "2024-06-08T08:43:36.837164Z",
     "shell.execute_reply": "2024-06-08T08:43:36.835951Z",
     "shell.execute_reply.started": "2024-06-08T08:43:35.005950Z"
    },
    "papermill": {
     "duration": null,
     "end_time": null,
     "exception": null,
     "start_time": null,
     "status": "pending"
    },
    "tags": []
   },
   "outputs": [],
   "source": [
    "# Filter the dataset to include only delayed flights\n",
    "delayed_flights = train_df[train_df['dep_delayed_15min'] == 'Y']\n",
    "\n",
    "# Convert 'DayofMonth' column to string values\n",
    "delayed_flights['DayofMonth'] = delayed_flights['DayofMonth'].astype(str)\n",
    "\n",
    "# Group by the 'DayofMonth' column and get the count of delayed flights for each day\n",
    "delayed_flights_per_day = delayed_flights.groupby('DayofMonth').size()\n",
    "\n",
    "# Bar Plot\n",
    "plt.figure(figsize=(10, 6))\n",
    "delayed_flights_per_day.plot(kind='bar', color='skyblue')\n",
    "plt.title('Total Delayed Flight Departures per Day of the Month')\n",
    "plt.xlabel('Day of the Month')\n",
    "plt.ylabel('Number of Delayed Flight Departures')\n",
    "plt.xticks(rotation=45)\n",
    "plt.grid(True)\n",
    "plt.tight_layout()\n",
    "plt.show()\n",
    "\n",
    "# Line Plot\n",
    "plt.figure(figsize=(10, 6))\n",
    "delayed_flights_per_day.plot(kind='line', marker='o', color='skyblue')\n",
    "plt.title('Trend of Delayed Flight Departures per Day of the Month')\n",
    "plt.xlabel('Day of the Month')\n",
    "plt.ylabel('Number of Delayed Flight Departures')\n",
    "plt.xticks(rotation=45)\n",
    "plt.grid(True)\n",
    "plt.tight_layout()\n",
    "plt.show()\n",
    "\n",
    "# Pie Chart\n",
    "plt.figure(figsize=(8, 8))\n",
    "plt.pie(delayed_flights_per_day, labels=delayed_flights_per_day.index, autopct='%1.1f%%', startangle=140)\n",
    "plt.title('Proportion of Delayed Flight Departures per Day of the Month')\n",
    "plt.axis('equal')\n",
    "plt.tight_layout()\n",
    "plt.show()\n",
    "\n",
    "# Histogram\n",
    "plt.figure(figsize=(10, 6))\n",
    "plt.hist(delayed_flights['DayofMonth'].astype(int), bins=31, color='skyblue', edgecolor='black')\n",
    "plt.title('Distribution of Delayed Flight Departures Across Days of the Month')\n",
    "plt.xlabel('Day of the Month')\n",
    "plt.ylabel('Number of Delayed Flight Departures')\n",
    "plt.xticks(range(1, 32))\n",
    "plt.grid(True)\n",
    "plt.tight_layout()\n",
    "plt.show()"
   ]
  },
  {
   "cell_type": "code",
   "execution_count": null,
   "id": "e7d4743b",
   "metadata": {
    "papermill": {
     "duration": null,
     "end_time": null,
     "exception": null,
     "start_time": null,
     "status": "pending"
    },
    "tags": []
   },
   "outputs": [],
   "source": []
  }
 ],
 "metadata": {
  "kaggle": {
   "accelerator": "none",
   "dataSources": [
    {
     "databundleVersionId": 210239,
     "sourceId": 12176,
     "sourceType": "competition"
    }
   ],
   "dockerImageVersionId": 30732,
   "isGpuEnabled": false,
   "isInternetEnabled": true,
   "language": "python",
   "sourceType": "notebook"
  },
  "kernelspec": {
   "display_name": "Python 3",
   "language": "python",
   "name": "python3"
  },
  "language_info": {
   "codemirror_mode": {
    "name": "ipython",
    "version": 3
   },
   "file_extension": ".py",
   "mimetype": "text/x-python",
   "name": "python",
   "nbconvert_exporter": "python",
   "pygments_lexer": "ipython3",
   "version": "3.10.13"
  },
  "papermill": {
   "default_parameters": {},
   "duration": 7.137509,
   "end_time": "2024-06-08T08:52:09.229302",
   "environment_variables": {},
   "exception": true,
   "input_path": "__notebook__.ipynb",
   "output_path": "__notebook__.ipynb",
   "parameters": {},
   "start_time": "2024-06-08T08:52:02.091793",
   "version": "2.5.0"
  }
 },
 "nbformat": 4,
 "nbformat_minor": 5
}
